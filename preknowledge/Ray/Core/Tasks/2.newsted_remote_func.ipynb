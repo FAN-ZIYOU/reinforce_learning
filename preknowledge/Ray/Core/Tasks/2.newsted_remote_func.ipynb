{
 "cells": [
  {
   "cell_type": "code",
   "execution_count": 1,
   "id": "initial_id",
   "metadata": {
    "collapsed": true,
    "ExecuteTime": {
     "end_time": "2024-12-13T10:43:02.807152Z",
     "start_time": "2024-12-13T10:43:01.999191Z"
    }
   },
   "outputs": [],
   "source": [
    "import ray"
   ]
  },
  {
   "cell_type": "code",
   "execution_count": 2,
   "outputs": [
    {
     "name": "stderr",
     "output_type": "stream",
     "text": [
      "2024-12-13 18:43:06,410\tINFO worker.py:1812 -- Started a local Ray instance. View the dashboard at \u001B[1m\u001B[32mhttp://127.0.0.1:8267 \u001B[39m\u001B[22m\n"
     ]
    },
    {
     "name": "stdout",
     "output_type": "stream",
     "text": [
      "[ObjectRef(9930f5acb950220cffffffffffffffffffffffff0100000001000000), ObjectRef(2a7e136b77f1e9fdffffffffffffffffffffffff0100000001000000), ObjectRef(e0b125015092bdf9ffffffffffffffffffffffff0100000001000000), ObjectRef(43476cf6705748a9ffffffffffffffffffffffff0100000001000000)]\n",
      "[1, 1, 1, 1]\n"
     ]
    }
   ],
   "source": [
    "@ray.remote\n",
    "def f():\n",
    "    return 1\n",
    "\n",
    "\n",
    "@ray.remote\n",
    "def g():\n",
    "    # Call f 4 times and return the resulting object refs.\n",
    "    return [f.remote() for _ in range(4)]\n",
    "\n",
    "\n",
    "@ray.remote\n",
    "def h():\n",
    "    # Call f 4 times, block until those 4 tasks finish,\n",
    "    # retrieve the results, and return the values.\n",
    "    return ray.get([f.remote() for _ in range(4)])\n",
    "\n",
    "print(ray.get(g.remote()))\n",
    "print(ray.get(h.remote()))"
   ],
   "metadata": {
    "collapsed": false,
    "ExecuteTime": {
     "end_time": "2024-12-13T10:43:09.571613Z",
     "start_time": "2024-12-13T10:43:02.840919Z"
    }
   },
   "id": "495b89989973c0e8"
  },
  {
   "cell_type": "code",
   "execution_count": 3,
   "outputs": [],
   "source": [
    "# Yielding Resources While Blocked\n",
    "@ray.remote(num_cpus=1, num_gpus=1)\n",
    "def g():\n",
    "    return ray.get(f.remote())\n",
    "\n",
    "# 在执行嵌套任务时，当遇到阻塞情况，则会释放cpu，当需要return时，重新获取cpu，这样可以避免死锁\n",
    "# 但是，在任务的整个生命周期内都不会放弃gpu资源【可能需要重新使用】"
   ],
   "metadata": {
    "collapsed": false,
    "ExecuteTime": {
     "end_time": "2024-12-13T10:43:09.579601Z",
     "start_time": "2024-12-13T10:43:09.567438Z"
    }
   },
   "id": "2141eef9e6bc1ee7"
  }
 ],
 "metadata": {
  "kernelspec": {
   "display_name": "Python 3",
   "language": "python",
   "name": "python3"
  },
  "language_info": {
   "codemirror_mode": {
    "name": "ipython",
    "version": 2
   },
   "file_extension": ".py",
   "mimetype": "text/x-python",
   "name": "python",
   "nbconvert_exporter": "python",
   "pygments_lexer": "ipython2",
   "version": "2.7.6"
  }
 },
 "nbformat": 4,
 "nbformat_minor": 5
}
