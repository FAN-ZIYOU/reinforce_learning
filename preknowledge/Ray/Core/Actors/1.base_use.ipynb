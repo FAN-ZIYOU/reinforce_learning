{
 "cells": [
  {
   "cell_type": "code",
   "execution_count": 7,
   "id": "initial_id",
   "metadata": {
    "collapsed": true,
    "ExecuteTime": {
     "end_time": "2024-12-13T10:43:37.556815Z",
     "start_time": "2024-12-13T10:43:37.549651Z"
    }
   },
   "outputs": [],
   "source": [
    "import time\n",
    "import ray"
   ]
  },
  {
   "cell_type": "code",
   "execution_count": 8,
   "outputs": [],
   "source": [
    "@ray.remote\n",
    "class Counter:\n",
    "    def __init__(self):\n",
    "        self.value = 0\n",
    "\n",
    "    def increment(self):\n",
    "        self.value += 1\n",
    "        return self.value\n",
    "\n",
    "    def get_counter(self):\n",
    "        return self.value\n",
    "\n",
    "# Specify required resources for an actor.\n",
    "# @ray.remote(num_cpus=2, num_gpus=0.5)\n",
    "# class Actor:\n",
    "#     pass"
   ],
   "metadata": {
    "collapsed": false,
    "ExecuteTime": {
     "end_time": "2024-12-13T10:43:37.573482Z",
     "start_time": "2024-12-13T10:43:37.563338Z"
    }
   },
   "id": "aa589d8d504a24fa"
  },
  {
   "cell_type": "code",
   "execution_count": 12,
   "outputs": [
    {
     "name": "stdout",
     "output_type": "stream",
     "text": [
      "<class 'ray._raylet.ObjectRef'>\n",
      "1\n"
     ]
    }
   ],
   "source": [
    "# Create an actor from this class.\n",
    "counter = Counter.remote()\n",
    "obj_ref = counter.increment.remote()\n",
    "print(type(obj_ref))\n",
    "print(ray.get(obj_ref)) # result: 1"
   ],
   "metadata": {
    "collapsed": false,
    "ExecuteTime": {
     "end_time": "2024-12-13T10:46:35.162360Z",
     "start_time": "2024-12-13T10:46:33.398774Z"
    }
   },
   "id": "c42201d2604a4262"
  },
  {
   "cell_type": "code",
   "execution_count": 16,
   "outputs": [
    {
     "name": "stdout",
     "output_type": "stream",
     "text": [
      "counters is:  [Actor(Counter, c1878944970166dbc5ea421d01000000), Actor(Counter, 32e850b2e78fa0b7862e7ca201000000), Actor(Counter, 80005d2f3c0cfbe8305a611301000000), Actor(Counter, 11a0776a961dde8f4fc0f2d201000000), Actor(Counter, 7e85c5e568ac32fa499d89d801000000), Actor(Counter, b67808955b5811fb3b2f108801000000), Actor(Counter, 4201855a0247ee437fd2a9d201000000), Actor(Counter, 33af3b7d94138fe1dedf5fca01000000), Actor(Counter, 530b5002b6ad9bb018f07e4301000000), Actor(Counter, c66fdbd2fef02221bf12385301000000)]\n",
      "using counter call increment function:  [1, 1, 1, 1, 1, 1, 1, 1, 1, 1]\n",
      "[2, 3, 4, 5, 6]\n",
      "0\n",
      "1\n",
      "6\n"
     ]
    }
   ],
   "source": [
    "# Create ten Counter actors.\n",
    "counters = [Counter.remote() for _ in range(10)]\n",
    "print(\"counters is: \", counters)\n",
    "\n",
    "# Increment each Counter once and get the results. These tasks all happen inparallel.\n",
    "results = ray.get([c.increment.remote() for c in counters])\n",
    "print(\"using counter call increment function: \", results)\n",
    "\n",
    "# Increment the first Counter five times. These tasks are executed serially and share state.\n",
    "results = ray.get([counters[0].increment.remote() for _ in range(5)])\n",
    "print(results)\n",
    "\n",
    "test = Counter.remote()\n",
    "print(ray.get(test.get_counter.remote())) # result: 0\n",
    "print(ray.get(counters[1].get_counter.remote())) # result: 1\n",
    "print(ray.get(counters[0].get_counter.remote())) # result: 6"
   ],
   "metadata": {
    "collapsed": false,
    "ExecuteTime": {
     "end_time": "2024-12-13T10:52:12.424783Z",
     "start_time": "2024-12-13T10:52:07.583415Z"
    }
   },
   "id": "7c04fde69311e619"
  },
  {
   "cell_type": "code",
   "execution_count": 17,
   "outputs": [],
   "source": [
    "@ray.remote\n",
    "def f(counter):\n",
    "    for _ in range(10):\n",
    "        time.sleep(0.1)\n",
    "        counter.increment.remote()"
   ],
   "metadata": {
    "collapsed": false,
    "ExecuteTime": {
     "end_time": "2024-12-13T10:53:07.808442Z",
     "start_time": "2024-12-13T10:53:07.799768Z"
    }
   },
   "id": "6ba470c77c61fac9"
  },
  {
   "cell_type": "code",
   "execution_count": 22,
   "outputs": [
    {
     "name": "stdout",
     "output_type": "stream",
     "text": [
      "10\n",
      "30\n",
      "30\n",
      "30\n",
      "30\n",
      "30\n",
      "30\n",
      "30\n",
      "30\n",
      "30\n"
     ]
    }
   ],
   "source": [
    "counter = Counter.remote()\n",
    "\n",
    "# Start some tasks that use the actor.\n",
    "[f.remote(counter) for _ in range(3)] # list 中含三项，每一项对counter做10次递增\n",
    "\n",
    "# Print the counter value.\n",
    "for _ in range(10):\n",
    "    time.sleep(0.1)\n",
    "    print(ray.get(counter.get_counter.remote()))"
   ],
   "metadata": {
    "collapsed": false,
    "ExecuteTime": {
     "end_time": "2024-12-13T10:59:05.024868Z",
     "start_time": "2024-12-13T10:59:03.215492Z"
    }
   },
   "id": "96196a5d426fb480"
  },
  {
   "cell_type": "code",
   "execution_count": null,
   "outputs": [],
   "source": [],
   "metadata": {
    "collapsed": false
   },
   "id": "862a196933cb3513"
  }
 ],
 "metadata": {
  "kernelspec": {
   "display_name": "Python 3",
   "language": "python",
   "name": "python3"
  },
  "language_info": {
   "codemirror_mode": {
    "name": "ipython",
    "version": 2
   },
   "file_extension": ".py",
   "mimetype": "text/x-python",
   "name": "python",
   "nbconvert_exporter": "python",
   "pygments_lexer": "ipython2",
   "version": "2.7.6"
  }
 },
 "nbformat": 4,
 "nbformat_minor": 5
}
