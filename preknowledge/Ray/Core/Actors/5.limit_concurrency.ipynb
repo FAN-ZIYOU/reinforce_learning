{
 "cells": [
  {
   "cell_type": "markdown",
   "source": [
    "## Limiting Concurrency Per-Method with Concurrency Groups\n"
   ],
   "metadata": {
    "collapsed": false
   },
   "id": "a3368e14fbe348a6"
  },
  {
   "cell_type": "code",
   "execution_count": 1,
   "outputs": [
    {
     "name": "stderr",
     "output_type": "stream",
     "text": [
      "2024-12-14 14:32:16,142\tINFO worker.py:1812 -- Started a local Ray instance. View the dashboard at \u001B[1m\u001B[32mhttp://127.0.0.1:8266 \u001B[39m\u001B[22m\n"
     ]
    },
    {
     "data": {
      "text/plain": "ObjectRef(f4402ec78d3a2607b15c45a9b0e274b0f260d4ac0100000001000000)"
     },
     "execution_count": 1,
     "metadata": {},
     "output_type": "execute_result"
    }
   ],
   "source": [
    "import ray\n",
    "\n",
    "@ray.remote(concurrency_groups={\"io\": 2, \"compute\": 4})\n",
    "class AsyncIOActor:\n",
    "    def __init__(self):\n",
    "        pass\n",
    "\n",
    "    @ray.method(concurrency_group=\"io\")\n",
    "    async def f1(self):\n",
    "        pass\n",
    "\n",
    "    @ray.method(concurrency_group=\"io\")\n",
    "    async def f2(self):\n",
    "        pass\n",
    "\n",
    "    @ray.method(concurrency_group=\"compute\")\n",
    "    async def f3(self):\n",
    "        pass\n",
    "\n",
    "    @ray.method(concurrency_group=\"compute\")\n",
    "    async def f4(self):\n",
    "        pass\n",
    "\n",
    "    async def f5(self):\n",
    "        pass\n",
    "\n",
    "a = AsyncIOActor.remote()\n",
    "a.f1.remote()  # executed in the \"io\" group.\n",
    "a.f2.remote()  # executed in the \"io\" group.\n",
    "a.f3.remote()  # executed in the \"compute\" group.\n",
    "a.f4.remote()  # executed in the \"compute\" group.\n",
    "a.f5.remote()  # executed in the default group."
   ],
   "metadata": {
    "collapsed": false,
    "ExecuteTime": {
     "end_time": "2024-12-14T06:32:18.360314Z",
     "start_time": "2024-12-14T06:32:12.862576Z"
    }
   },
   "id": "3b2b0a0e10573fbf"
  },
  {
   "cell_type": "code",
   "execution_count": null,
   "outputs": [],
   "source": [],
   "metadata": {
    "collapsed": false
   },
   "id": "e7d35b4145728e89"
  }
 ],
 "metadata": {
  "kernelspec": {
   "display_name": "Python 3",
   "language": "python",
   "name": "python3"
  },
  "language_info": {
   "codemirror_mode": {
    "name": "ipython",
    "version": 2
   },
   "file_extension": ".py",
   "mimetype": "text/x-python",
   "name": "python",
   "nbconvert_exporter": "python",
   "pygments_lexer": "ipython2",
   "version": "2.7.6"
  }
 },
 "nbformat": 4,
 "nbformat_minor": 5
}
