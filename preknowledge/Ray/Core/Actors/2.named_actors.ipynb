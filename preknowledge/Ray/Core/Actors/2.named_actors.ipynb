{
 "cells": [
  {
   "cell_type": "markdown",
   "source": [
    "# Named Actors"
   ],
   "metadata": {
    "collapsed": false
   },
   "id": "e81a3c7fe67235e6"
  },
  {
   "cell_type": "code",
   "execution_count": 1,
   "outputs": [],
   "source": [
    "import ray"
   ],
   "metadata": {
    "collapsed": false,
    "ExecuteTime": {
     "end_time": "2024-12-13T11:38:15.334508Z",
     "start_time": "2024-12-13T11:38:14.646192Z"
    }
   },
   "id": "7982fb0ff64c490f"
  },
  {
   "cell_type": "code",
   "execution_count": 2,
   "outputs": [
    {
     "name": "stderr",
     "output_type": "stream",
     "text": [
      "2024-12-13 19:38:17,679\tINFO worker.py:1812 -- Started a local Ray instance. View the dashboard at \u001B[1m\u001B[32mhttp://127.0.0.1:8265 \u001B[39m\u001B[22m\n"
     ]
    },
    {
     "name": "stdout",
     "output_type": "stream",
     "text": [
      "Actor(Counter, 42f88320a3dcf5419a24cdf701000000)\n",
      "Actor(Counter, 42f88320a3dcf5419a24cdf701000000)\n"
     ]
    }
   ],
   "source": [
    "@ray.remote\n",
    "class Counter:\n",
    "    pass\n",
    "\n",
    "# Create an actor with a name\n",
    "counter = Counter.options(name=\"some_name\").remote()\n",
    "print(counter)\n",
    "\n",
    "# Retrieve the actor later somewhere\n",
    "counter = ray.get_actor(\"some_name\") \n",
    "print(counter)\n",
    "\n",
    "# 若创建actor没有设定名称，则会默认放到匿名空间中"
   ],
   "metadata": {
    "collapsed": false,
    "ExecuteTime": {
     "end_time": "2024-12-13T11:38:19.949819Z",
     "start_time": "2024-12-13T11:38:15.374375Z"
    }
   },
   "id": "c159296ef19c148b"
  },
  {
   "cell_type": "markdown",
   "source": [
    "### 对于如何使用ray进行消息共享,见 simulate_namespace 文件中的示例"
   ],
   "metadata": {
    "collapsed": false
   },
   "id": "a27937fe49babb41"
  },
  {
   "cell_type": "markdown",
   "source": [],
   "metadata": {
    "collapsed": false
   },
   "id": "ad9acfd873b960e8"
  },
  {
   "cell_type": "markdown",
   "source": [
    "# Get-Or-Create a Named Actor"
   ],
   "metadata": {
    "collapsed": false
   },
   "id": "dcf446d64561fc68"
  },
  {
   "cell_type": "code",
   "execution_count": 3,
   "outputs": [],
   "source": [
    "import ray\n",
    "\n",
    "\n",
    "@ray.remote\n",
    "class Greeter:\n",
    "    def __init__(self, value):\n",
    "        self.value = value\n",
    "\n",
    "    def say_hello(self):\n",
    "        return self.value\n",
    "\n",
    "# get_if_exists=True 表示如果名称为 \"g1\" 的 Actor 已经存在，直接返回已存在的 Actor；如果不存在，则创建新的 Actor。\n",
    "a = Greeter.options(name=\"g1\", get_if_exists=True).remote(\"Old Greeting\")\n",
    "assert ray.get(a.say_hello.remote()) == \"Old Greeting\"\n",
    "\n",
    "# 由于 get_if_exists=True 且 Actor \"g1\" 已经存在，此时会返回已存在的 Actor，而不会创建新的 Actor。\n",
    "# 传递的参数 \"New Greeting\" 被忽略，因为 Actor 已经存在，不会重新初始化。\n",
    "b = Greeter.options(name=\"g1\", get_if_exists=True).remote(\"New Greeting\")\n",
    "assert ray.get(b.say_hello.remote()) == \"Old Greeting\""
   ],
   "metadata": {
    "collapsed": false,
    "ExecuteTime": {
     "end_time": "2024-12-13T11:38:20.654404Z",
     "start_time": "2024-12-13T11:38:19.946879Z"
    }
   },
   "id": "705adf2bfbd8b16a"
  },
  {
   "cell_type": "markdown",
   "source": [
    "# Actor Lifetimes"
   ],
   "metadata": {
    "collapsed": false
   },
   "id": "49f04681279594ae"
  },
  {
   "cell_type": "code",
   "execution_count": null,
   "outputs": [],
   "source": [
    "counter = Counter.options(name=\"CounterActor\", lifetime=\"detached\").remote()\n",
    "# 在运行上述脚本的主程序退出后，CounterActor 仍将保持活动。\n",
    "# 因此，可以在其他程序中可以使用如下脚本进行获取【示例：simulate_namespace/driver_1*.py】\n",
    "counter = ray.get_actor(\"CounterActor\")"
   ],
   "metadata": {
    "collapsed": false
   },
   "id": "5570342b07b40eb1"
  }
 ],
 "metadata": {
  "kernelspec": {
   "display_name": "Python 3",
   "language": "python",
   "name": "python3"
  },
  "language_info": {
   "codemirror_mode": {
    "name": "ipython",
    "version": 2
   },
   "file_extension": ".py",
   "mimetype": "text/x-python",
   "name": "python",
   "nbconvert_exporter": "python",
   "pygments_lexer": "ipython2",
   "version": "2.7.6"
  }
 },
 "nbformat": 4,
 "nbformat_minor": 5
}
