{
 "cells": [
  {
   "cell_type": "markdown",
   "source": [
    " # Actor Pool\n"
   ],
   "metadata": {
    "collapsed": false
   },
   "id": "965407ce4afc610"
  },
  {
   "cell_type": "code",
   "execution_count": 1,
   "outputs": [
    {
     "name": "stderr",
     "output_type": "stream",
     "text": [
      "2024-12-14 14:35:50,196\tINFO worker.py:1812 -- Started a local Ray instance. View the dashboard at \u001B[1m\u001B[32mhttp://127.0.0.1:8267 \u001B[39m\u001B[22m\n"
     ]
    },
    {
     "name": "stdout",
     "output_type": "stream",
     "text": [
      "[2, 4, 6, 8]\n"
     ]
    }
   ],
   "source": [
    "import ray\n",
    "from ray.util import ActorPool\n",
    "\n",
    "\n",
    "@ray.remote\n",
    "class Actor:\n",
    "    def double(self, n):\n",
    "        return n * 2\n",
    "\n",
    "\n",
    "a1, a2 = Actor.remote(), Actor.remote()\n",
    "pool = ActorPool([a1, a2])\n",
    "\n",
    "# pool.map(..) returns a Python generator object ActorPool.map\n",
    "# lambda 参数1, 参数2: 返回值\n",
    "# pool.map(task_function, iterable)\n",
    "gen = pool.map(lambda a, v: a.double.remote(v), [1, 2, 3, 4])\n",
    "\n",
    "print(list(gen))  # result: [2, 4, 6, 8]"
   ],
   "metadata": {
    "collapsed": false,
    "ExecuteTime": {
     "end_time": "2024-12-14T06:35:52.955404Z",
     "start_time": "2024-12-14T06:35:46.944470Z"
    }
   },
   "id": "87cd0a25d6c21ed"
  },
  {
   "cell_type": "code",
   "execution_count": null,
   "outputs": [],
   "source": [],
   "metadata": {
    "collapsed": false
   },
   "id": "8b5dc5b963d62cab"
  },
  {
   "cell_type": "markdown",
   "source": [
    "## Message passing using Ray Queue"
   ],
   "metadata": {
    "collapsed": false
   },
   "id": "742d7ad2689e6dbb"
  },
  {
   "cell_type": "code",
   "execution_count": 7,
   "outputs": [
    {
     "name": "stderr",
     "output_type": "stream",
     "text": [
      "2024-12-14 14:44:07,728\tINFO worker.py:1812 -- Started a local Ray instance. View the dashboard at \u001B[1m\u001B[32mhttp://127.0.0.1:8267 \u001B[39m\u001B[22m\n"
     ]
    },
    {
     "name": "stdout",
     "output_type": "stream",
     "text": [
      "Put work 1 - 10 to queue...\n",
      "\u001B[36m(consumer pid=6669)\u001B[0m consumer 0 got work 0\n",
      "\u001B[36m(consumer pid=6669)\u001B[0m consumer 0 got work 2\n",
      "\u001B[36m(consumer pid=6669)\u001B[0m consumer 0 got work 4\n",
      "\u001B[36m(consumer pid=6669)\u001B[0m consumer 0 got work 6\n",
      "\u001B[36m(consumer pid=6669)\u001B[0m consumer 0 got work 9\n"
     ]
    },
    {
     "data": {
      "text/plain": "[None, None]"
     },
     "execution_count": 7,
     "metadata": {},
     "output_type": "execute_result"
    }
   ],
   "source": [
    "import ray\n",
    "from ray.util.queue import Queue, Empty\n",
    "\n",
    "ray.shutdown()\n",
    "ray.init()\n",
    "# You can pass this object around to different tasks/actors\n",
    "queue = Queue(maxsize=100)\n",
    "\n",
    "\n",
    "@ray.remote\n",
    "def consumer(id, queue):\n",
    "    try:\n",
    "        while True:\n",
    "            next_item = queue.get(block=True, timeout=1)\n",
    "            print(f\"consumer {id} got work {next_item}\")\n",
    "    except Empty:\n",
    "        pass\n",
    "\n",
    "\n",
    "[queue.put(i) for i in range(10)]\n",
    "print(\"Put work 1 - 10 to queue...\")\n",
    "\n",
    "consumers = [consumer.remote(id, queue) for id in range(2)]\n",
    "ray.get(consumers)"
   ],
   "metadata": {
    "collapsed": false,
    "ExecuteTime": {
     "end_time": "2024-12-14T06:44:11.464410Z",
     "start_time": "2024-12-14T06:44:04.242755Z"
    }
   },
   "id": "b8570ac46cd0e459"
  },
  {
   "cell_type": "code",
   "execution_count": null,
   "outputs": [],
   "source": [],
   "metadata": {
    "collapsed": false
   },
   "id": "e6f5818accfb8ea4"
  }
 ],
 "metadata": {
  "kernelspec": {
   "display_name": "Python 3",
   "language": "python",
   "name": "python3"
  },
  "language_info": {
   "codemirror_mode": {
    "name": "ipython",
    "version": 2
   },
   "file_extension": ".py",
   "mimetype": "text/x-python",
   "name": "python",
   "nbconvert_exporter": "python",
   "pygments_lexer": "ipython2",
   "version": "2.7.6"
  }
 },
 "nbformat": 4,
 "nbformat_minor": 5
}
