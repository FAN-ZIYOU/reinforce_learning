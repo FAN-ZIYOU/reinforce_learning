{
 "cells": [
  {
   "cell_type": "markdown",
   "source": [
    "# 同步和异步的区别"
   ],
   "metadata": {
    "collapsed": false
   },
   "id": "86620b7723d057dd"
  },
  {
   "cell_type": "code",
   "execution_count": 1,
   "outputs": [
    {
     "name": "stderr",
     "output_type": "stream",
     "text": [
      "2024-12-14 14:28:16,866\tINFO worker.py:1812 -- Started a local Ray instance. View the dashboard at \u001B[1m\u001B[32mhttp://127.0.0.1:8265 \u001B[39m\u001B[22m\n"
     ]
    },
    {
     "name": "stdout",
     "output_type": "stream",
     "text": [
      "\u001B[36m(AsyncActor pid=6423)\u001B[0m started\n",
      "\u001B[36m(AsyncActor pid=6423)\u001B[0m started\n",
      "\u001B[36m(AsyncActor pid=6423)\u001B[0m started\n",
      "\u001B[36m(AsyncActor pid=6423)\u001B[0m started\n",
      "\u001B[36m(AsyncActor pid=6423)\u001B[0m finished\n",
      "\u001B[36m(AsyncActor pid=6423)\u001B[0m finished\n",
      "\u001B[36m(AsyncActor pid=6423)\u001B[0m finished\n",
      "\u001B[36m(AsyncActor pid=6423)\u001B[0m finished\n"
     ]
    },
    {
     "ename": "RuntimeError",
     "evalue": "asyncio.run() cannot be called from a running event loop",
     "output_type": "error",
     "traceback": [
      "\u001B[0;31m---------------------------------------------------------------------------\u001B[0m",
      "\u001B[0;31mRuntimeError\u001B[0m                              Traceback (most recent call last)",
      "Cell \u001B[0;32mIn[1], line 21\u001B[0m\n\u001B[1;32m     19\u001B[0m \u001B[38;5;28;01masync\u001B[39;00m \u001B[38;5;28;01mdef\u001B[39;00m \u001B[38;5;21masync_get\u001B[39m():\n\u001B[1;32m     20\u001B[0m     \u001B[38;5;28;01mawait\u001B[39;00m actor\u001B[38;5;241m.\u001B[39mrun_concurrent\u001B[38;5;241m.\u001B[39mremote()\n\u001B[0;32m---> 21\u001B[0m asyncio\u001B[38;5;241m.\u001B[39mrun(async_get()) \u001B[38;5;66;03m# 异步\u001B[39;00m\n\u001B[1;32m     23\u001B[0m \u001B[38;5;124;03m\"\"\"\u001B[39;00m\n\u001B[1;32m     24\u001B[0m \u001B[38;5;124;03m    同步：一个任务完成以后才可以开始下一个任务【任务之间有关联】\u001B[39;00m\n\u001B[1;32m     25\u001B[0m \u001B[38;5;124;03m    异步：主程序开启一个子任务后马上返回，随后两者同时执行，子任务执行完毕后，通过回调函数返回结果\u001B[39;00m\n\u001B[0;32m   (...)\u001B[0m\n\u001B[1;32m     28\u001B[0m \u001B[38;5;124;03m    异步消耗的时间：最长任务耗时\u001B[39;00m\n\u001B[1;32m     29\u001B[0m \u001B[38;5;124;03m\"\"\"\u001B[39;00m\n",
      "File \u001B[0;32m/opt/anaconda3/envs/rl/lib/python3.11/asyncio/runners.py:186\u001B[0m, in \u001B[0;36mrun\u001B[0;34m(main, debug)\u001B[0m\n\u001B[1;32m    161\u001B[0m \u001B[38;5;250m\u001B[39m\u001B[38;5;124;03m\"\"\"Execute the coroutine and return the result.\u001B[39;00m\n\u001B[1;32m    162\u001B[0m \n\u001B[1;32m    163\u001B[0m \u001B[38;5;124;03mThis function runs the passed coroutine, taking care of\u001B[39;00m\n\u001B[0;32m   (...)\u001B[0m\n\u001B[1;32m    182\u001B[0m \u001B[38;5;124;03m    asyncio.run(main())\u001B[39;00m\n\u001B[1;32m    183\u001B[0m \u001B[38;5;124;03m\"\"\"\u001B[39;00m\n\u001B[1;32m    184\u001B[0m \u001B[38;5;28;01mif\u001B[39;00m events\u001B[38;5;241m.\u001B[39m_get_running_loop() \u001B[38;5;129;01mis\u001B[39;00m \u001B[38;5;129;01mnot\u001B[39;00m \u001B[38;5;28;01mNone\u001B[39;00m:\n\u001B[1;32m    185\u001B[0m     \u001B[38;5;66;03m# fail fast with short traceback\u001B[39;00m\n\u001B[0;32m--> 186\u001B[0m     \u001B[38;5;28;01mraise\u001B[39;00m \u001B[38;5;167;01mRuntimeError\u001B[39;00m(\n\u001B[1;32m    187\u001B[0m         \u001B[38;5;124m\"\u001B[39m\u001B[38;5;124masyncio.run() cannot be called from a running event loop\u001B[39m\u001B[38;5;124m\"\u001B[39m)\n\u001B[1;32m    189\u001B[0m \u001B[38;5;28;01mwith\u001B[39;00m Runner(debug\u001B[38;5;241m=\u001B[39mdebug) \u001B[38;5;28;01mas\u001B[39;00m runner:\n\u001B[1;32m    190\u001B[0m     \u001B[38;5;28;01mreturn\u001B[39;00m runner\u001B[38;5;241m.\u001B[39mrun(main)\n",
      "\u001B[0;31mRuntimeError\u001B[0m: asyncio.run() cannot be called from a running event loop"
     ]
    }
   ],
   "source": [
    "# AsyncIO for Actors\n",
    "\n",
    "import ray\n",
    "import asyncio\n",
    "\n",
    "@ray.remote\n",
    "class AsyncActor:\n",
    "    # multiple invocation of this method can be running in\n",
    "    # the event loop at the same time\n",
    "    async def run_concurrent(self):\n",
    "        print(\"started\")\n",
    "        await asyncio.sleep(2) # concurrent workload here\n",
    "        print(\"finished\")\n",
    "\n",
    "actor = AsyncActor.remote()\n",
    "\n",
    "# regular ray.get\n",
    "ray.get([actor.run_concurrent.remote() for _ in range(4)]) # 同步\n",
    "\n",
    "# async ray.get\n",
    "async def async_get():\n",
    "    await actor.run_concurrent.remote()\n",
    "asyncio.run(async_get()) # 异步\n",
    "\n",
    "\"\"\"\n",
    "    同步：一个任务完成以后才可以开始下一个任务【任务之间有关联】\n",
    "    异步：主程序开启一个子任务后马上返回，随后两者同时执行，子任务执行完毕后，通过回调函数返回结果\n",
    "    \n",
    "    同步消耗的时间：任务数 * 每任务耗时\n",
    "    异步消耗的时间：最长任务耗时\n",
    "\"\"\""
   ],
   "metadata": {
    "collapsed": false,
    "ExecuteTime": {
     "end_time": "2024-12-14T06:28:21.741413Z",
     "start_time": "2024-12-14T06:28:12.889449Z"
    }
   },
   "id": "9502697005b88cd5"
  },
  {
   "cell_type": "code",
   "execution_count": null,
   "outputs": [],
   "source": [],
   "metadata": {
    "collapsed": false,
    "ExecuteTime": {
     "start_time": "2024-12-14T06:28:21.741091Z"
    }
   },
   "id": "4c9d3f8c306d2d9e"
  }
 ],
 "metadata": {
  "kernelspec": {
   "display_name": "Python 3",
   "language": "python",
   "name": "python3"
  },
  "language_info": {
   "codemirror_mode": {
    "name": "ipython",
    "version": 2
   },
   "file_extension": ".py",
   "mimetype": "text/x-python",
   "name": "python",
   "nbconvert_exporter": "python",
   "pygments_lexer": "ipython2",
   "version": "2.7.6"
  }
 },
 "nbformat": 4,
 "nbformat_minor": 5
}
