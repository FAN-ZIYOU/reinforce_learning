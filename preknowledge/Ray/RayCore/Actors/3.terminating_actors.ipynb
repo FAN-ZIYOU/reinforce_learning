{
 "cells": [
  {
   "cell_type": "markdown",
   "source": [
    "# Terminating Actors"
   ],
   "metadata": {
    "collapsed": false
   },
   "id": "92929a80e6a87f0e"
  },
  {
   "cell_type": "code",
   "execution_count": 5,
   "outputs": [],
   "source": [
    "import ray\n",
    "import numpy as np"
   ],
   "metadata": {
    "collapsed": false,
    "ExecuteTime": {
     "end_time": "2024-12-14T05:50:44.874975Z",
     "start_time": "2024-12-14T05:50:44.845176Z"
    }
   },
   "id": "5e58a62f9f58708a"
  },
  {
   "cell_type": "markdown",
   "source": [
    "## Manual termination via an actor handle\n"
   ],
   "metadata": {
    "collapsed": false
   },
   "id": "dd238f695db17c33"
  },
  {
   "cell_type": "code",
   "execution_count": 6,
   "outputs": [],
   "source": [
    "@ray.remote\n",
    "class Actor:\n",
    "    pass\n",
    "\n",
    "actor_handle = Actor.remote()\n",
    "\n",
    "ray.kill(actor_handle)\n",
    "# This will not go through the normal Python sys.exit\n",
    "# teardown logic, so any exit handlers installed in\n",
    "# the actor using ``atexit`` will not be called."
   ],
   "metadata": {
    "collapsed": false,
    "ExecuteTime": {
     "end_time": "2024-12-14T05:50:44.894104Z",
     "start_time": "2024-12-14T05:50:44.870945Z"
    }
   },
   "id": "477b5e9142173361"
  },
  {
   "cell_type": "code",
   "execution_count": 6,
   "outputs": [],
   "source": [],
   "metadata": {
    "collapsed": false,
    "ExecuteTime": {
     "end_time": "2024-12-14T05:50:44.899517Z",
     "start_time": "2024-12-14T05:50:44.887998Z"
    }
   },
   "id": "82a1c61d2dc4975a"
  },
  {
   "cell_type": "markdown",
   "source": [
    "## Manual termination within the actor"
   ],
   "metadata": {
    "collapsed": false
   },
   "id": "8aa647ada64257a5"
  },
  {
   "cell_type": "code",
   "execution_count": null,
   "outputs": [],
   "source": [
    "@ray.remote\n",
    "class Actor:\n",
    "    def exit(self):\n",
    "        ray.actor.exit_actor()\n",
    "\n",
    "actor = Actor.remote()\n",
    "actor.exit.remote()"
   ],
   "metadata": {
    "collapsed": false
   },
   "id": "e520eba6fe5c0119"
  }
 ],
 "metadata": {
  "kernelspec": {
   "display_name": "Python 3",
   "language": "python",
   "name": "python3"
  },
  "language_info": {
   "codemirror_mode": {
    "name": "ipython",
    "version": 2
   },
   "file_extension": ".py",
   "mimetype": "text/x-python",
   "name": "python",
   "nbconvert_exporter": "python",
   "pygments_lexer": "ipython2",
   "version": "2.7.6"
  }
 },
 "nbformat": 4,
 "nbformat_minor": 5
}
