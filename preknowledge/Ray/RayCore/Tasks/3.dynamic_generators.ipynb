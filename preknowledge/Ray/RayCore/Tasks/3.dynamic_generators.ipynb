{
 "cells": [
  {
   "cell_type": "code",
   "execution_count": 1,
   "id": "initial_id",
   "metadata": {
    "collapsed": true,
    "ExecuteTime": {
     "end_time": "2024-12-13T10:43:17.154908Z",
     "start_time": "2024-12-13T10:43:16.388877Z"
    }
   },
   "outputs": [],
   "source": [
    "import ray\n",
    "import numpy as np\n",
    "from ray import DynamicObjectRefGenerator"
   ]
  },
  {
   "cell_type": "code",
   "execution_count": 2,
   "outputs": [
    {
     "name": "stderr",
     "output_type": "stream",
     "text": [
      "2024-12-13 18:43:20,510\tINFO worker.py:1812 -- Started a local Ray instance. View the dashboard at \u001B[1m\u001B[32mhttp://127.0.0.1:8268 \u001B[39m\u001B[22m\n"
     ]
    },
    {
     "name": "stdout",
     "output_type": "stream",
     "text": [
      "[array([[  3],\n",
      "       [ 13],\n",
      "       [ 71],\n",
      "       ...,\n",
      "       [ 96],\n",
      "       [126],\n",
      "       [121]], dtype=int8)]\n",
      "[array([[ 84],\n",
      "       [ 87],\n",
      "       [ 28],\n",
      "       ...,\n",
      "       [124],\n",
      "       [ 45],\n",
      "       [  5]], dtype=int8)]\n"
     ]
    }
   ],
   "source": [
    "################ num_returns set by the task caller\n",
    "@ray.remote\n",
    "def large_values(num_returns):\n",
    "    return [\n",
    "        np.random.randint(\n",
    "            np.iinfo(np.int8).max, size=(100_000_000, 1), dtype=np.int8\n",
    "        ) for _ in range(num_returns)\n",
    "    ]\n",
    "\n",
    "@ray.remote\n",
    "def large_values_generator(num_returns):\n",
    "    for i in range(num_returns):\n",
    "        yield np.random.randint(\n",
    "            np.iinfo(np.int8).max, size=(100_000_000, 1), dtype=np.int8\n",
    "        )\n",
    "        print(f\"yielded return value {i}\")\n",
    "\n",
    "\n",
    "print(ray.get(large_values.remote(1)))\n",
    "print()\n",
    "print(ray.get(large_values.remote(1)))"
   ],
   "metadata": {
    "collapsed": false,
    "ExecuteTime": {
     "end_time": "2024-12-13T10:43:24.445067Z",
     "start_time": "2024-12-13T10:43:17.159224Z"
    }
   },
   "id": "653e49ba005240d5"
  },
  {
   "cell_type": "code",
   "execution_count": 3,
   "outputs": [
    {
     "name": "stdout",
     "output_type": "stream",
     "text": [
      "ObjectRef(c2668a65bda616c1ffffffffffffffffffffffff0100000001000000)\n",
      "<ray._raylet.DynamicObjectRefGenerator object at 0x111b0e150>\n",
      "Split array of size 960575 into 961 blocks of size 1000 each.\n"
     ]
    }
   ],
   "source": [
    "################ num_returns set by the task executor\n",
    "@ray.remote(num_returns=\"dynamic\")  # 返回值可动态调整\n",
    "def split(array, chunk_size):\n",
    "    while len(array) > 0:\n",
    "        yield array[:chunk_size]\n",
    "        array = array[chunk_size:]\n",
    "\n",
    "\n",
    "array_ref = ray.put(np.zeros(np.random.randint(1000_000)))\n",
    "\n",
    "block_size = 1000\n",
    "\n",
    "dynamic_ref = split.remote(array_ref, block_size)  # Returns an ObjectRef[DynamicObjectRefGenerator].\n",
    "print(dynamic_ref)\n",
    "# ObjectRef(c8ef45ccd0112571ffffffffffffffffffffffff0100000001000000)\n",
    "\n",
    "i = -1\n",
    "ref_generator = ray.get(dynamic_ref)\n",
    "print(ref_generator)\n",
    "# <ray._raylet.DynamicObjectRefGenerator object at 0x7f7e2116b290>\n",
    "\n",
    "for i, ref in enumerate(ref_generator):\n",
    "    # Each DynamicObjectRefGenerator iteration returns an ObjectRef.\n",
    "    assert len(ray.get(ref)) <= block_size\n",
    "\n",
    "num_blocks_generated = i + 1\n",
    "array_size = len(ray.get(array_ref))\n",
    "assert array_size <= num_blocks_generated * block_size\n",
    "print(f\"Split array of size {array_size} into {num_blocks_generated} blocks of \"\n",
    "      f\"size {block_size} each.\\n\\n\")\n",
    "\n",
    "# NOTE: The dynamic_ref points to the generated ObjectRefs. Make sure that this\n",
    "# ObjectRef goes out of scope so that Ray can garbage-collect the internal ObjectRefs.\n",
    "del dynamic_ref"
   ],
   "metadata": {
    "collapsed": false,
    "ExecuteTime": {
     "end_time": "2024-12-13T10:43:24.793250Z",
     "start_time": "2024-12-13T10:43:24.439997Z"
    }
   },
   "id": "5c2fe8ee0066f7db"
  },
  {
   "cell_type": "code",
   "execution_count": 4,
   "outputs": [],
   "source": [
    "# 使用ray.get返回值的类型为：<ray._raylet.DynamicObjectRefGenerator>\n",
    "# 可以对其进行遍历，如下 get_size 所示\n",
    "@ray.remote\n",
    "def get_size(ref_generator: DynamicObjectRefGenerator):\n",
    "    print(ref_generator)\n",
    "    num_elements = 0\n",
    "    for ref in ref_generator:\n",
    "        array = ray.get(ref)\n",
    "        assert len(array) <= block_size\n",
    "        num_elements += len(array)\n",
    "    return num_elements\n",
    "\n",
    "\n",
    "# Returns an ObjectRef[DynamicObjectRefGenerator].\n",
    "dynamic_ref = split.remote(array_ref, block_size) # 建议使用 remote 来异步调用，避免阻塞主进程\n",
    "assert array_size == ray.get(get_size.remote(dynamic_ref))\n",
    "# (get_size pid=1504184) <ray._raylet.DynamicObjectRefGenerator object at 0x7f81c4250ad0>\n",
    "\n",
    "# 通过该方法使用了 ray.get 方法，可能会造成主进程的阻塞\n",
    "ref_generator = ray.get(dynamic_ref)\n",
    "assert array_size == ray.get(get_size.remote(ref_generator))"
   ],
   "metadata": {
    "collapsed": false,
    "ExecuteTime": {
     "end_time": "2024-12-13T10:43:25.239380Z",
     "start_time": "2024-12-13T10:43:24.799524Z"
    }
   },
   "id": "91e35c418435e08e"
  }
 ],
 "metadata": {
  "kernelspec": {
   "display_name": "Python 3",
   "language": "python",
   "name": "python3"
  },
  "language_info": {
   "codemirror_mode": {
    "name": "ipython",
    "version": 2
   },
   "file_extension": ".py",
   "mimetype": "text/x-python",
   "name": "python",
   "nbconvert_exporter": "python",
   "pygments_lexer": "ipython2",
   "version": "2.7.6"
  }
 },
 "nbformat": 4,
 "nbformat_minor": 5
}
