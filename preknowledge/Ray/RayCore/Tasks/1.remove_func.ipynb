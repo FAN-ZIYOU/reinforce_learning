{
 "cells": [
  {
   "cell_type": "code",
   "execution_count": 1,
   "id": "initial_id",
   "metadata": {
    "collapsed": true,
    "ExecuteTime": {
     "end_time": "2024-12-13T10:39:31.437441Z",
     "start_time": "2024-12-13T10:39:24.383153Z"
    }
   },
   "outputs": [
    {
     "name": "stderr",
     "output_type": "stream",
     "text": [
      "2024-12-13 18:39:28,669\tINFO worker.py:1812 -- Started a local Ray instance. View the dashboard at \u001B[1m\u001B[32mhttp://127.0.0.1:8266 \u001B[39m\u001B[22m\n"
     ]
    }
   ],
   "source": [
    "import ray\n",
    "import time\n",
    "\n",
    "\n",
    "# A regular Python function.\n",
    "def normal_task() -> int:\n",
    "    return 1\n",
    "\n",
    "\n",
    "# By adding the `@ray.remote` decorator, a regular Python function becomes a Ray remote function.\n",
    "@ray.remote\n",
    "def my_function() -> int:\n",
    "    return 1\n",
    "\n",
    "\n",
    "# To invoke this remote function, use the `remote` method.\n",
    "# This will immediately return an object ref (a future) and then create\n",
    "# a task that will be executed on a worker process.\n",
    "obj_ref = my_function.remote()\n",
    "\n",
    "# The result can be retrieved with ``ray.get``.\n",
    "assert ray.get(obj_ref) == 1\n",
    "\n",
    "\n",
    "@ray.remote\n",
    "def slow_function():\n",
    "    time.sleep(10)\n",
    "    return 1\n",
    "\n",
    "\n",
    "# Ray tasks are executed in parallel.\n",
    "# All computation is performed in the background, driven by Ray's internal event loop.\n",
    "for _ in range(4):\n",
    "    # This doesn't block.\n",
    "    slow_function.remote()\n"
   ]
  },
  {
   "cell_type": "code",
   "execution_count": 2,
   "outputs": [
    {
     "name": "stdout",
     "output_type": "stream",
     "text": [
      "1\n"
     ]
    }
   ],
   "source": [
    "########## Specifying required resources ##########\n",
    "@ray.remote(num_cpus=4, num_gpus=2)\n",
    "def my_function():\n",
    "    return 1\n",
    "\n",
    "\n",
    "# Override the default resource requirements.\n",
    "print(ray.get(my_function.options(num_cpus=2, num_gpus=0).remote()))"
   ],
   "metadata": {
    "collapsed": false,
    "ExecuteTime": {
     "end_time": "2024-12-13T10:39:31.749125Z",
     "start_time": "2024-12-13T10:39:31.444376Z"
    }
   },
   "id": "dccac448d298a198"
  },
  {
   "cell_type": "code",
   "execution_count": 3,
   "outputs": [],
   "source": [
    "########## passing object refs to Ray tasks ##########\n",
    "@ray.remote\n",
    "def function_with_an_argument(value):\n",
    "    return value + 1\n",
    "\n",
    "\n",
    "obj_ref1 = my_function.options(num_cpus=2, num_gpus=0).remote()\n",
    "assert ray.get(obj_ref1) == 1\n",
    "\n",
    "# You can pass an object ref as an argument to another Ray task.\n",
    "obj_ref2 = function_with_an_argument.remote(obj_ref1)\n",
    "assert ray.get(obj_ref2) == 2\n",
    "\n",
    "\n",
    "@ray.remote(num_cpus=3)\n",
    "def slow_function(x: int) -> int:\n",
    "    print(\"current is slow_function\")\n",
    "    return x"
   ],
   "metadata": {
    "collapsed": false,
    "ExecuteTime": {
     "end_time": "2024-12-13T10:39:32.377947Z",
     "start_time": "2024-12-13T10:39:31.748795Z"
    }
   },
   "id": "e53a6bec4967c650"
  },
  {
   "cell_type": "code",
   "execution_count": 4,
   "outputs": [
    {
     "name": "stdout",
     "output_type": "stream",
     "text": [
      "[0, 1, 2, 3, 4]\n",
      "ready refs: [0, 1]\n",
      "remaining refs: [2, 3, 4]\n",
      "Waiting for Partial Results Finished\n"
     ]
    }
   ],
   "source": [
    "########## Waiting for Partial Results ##########\n",
    "time.sleep(10)\n",
    "object_refs = [slow_function.remote(_) for _ in range(5)]\n",
    "ready_refs, remaining_refs = ray.wait(object_refs, num_returns=2, timeout=None)  # 阻塞object_refs，直到完成至少2个任务\n",
    "\n",
    "print(ray.get(object_refs))\n",
    "print(f\"ready refs: {ray.get(ready_refs)}\\nremaining refs: {ray.get(remaining_refs)}\")\n",
    "\n",
    "print(f\"Waiting for Partial Results Finished\")"
   ],
   "metadata": {
    "collapsed": false,
    "ExecuteTime": {
     "end_time": "2024-12-13T10:39:42.402584Z",
     "start_time": "2024-12-13T10:39:32.380650Z"
    }
   },
   "id": "c97d3c0d14011a04"
  },
  {
   "cell_type": "code",
   "execution_count": 5,
   "outputs": [],
   "source": [
    "########## Multiple returns ##########\n",
    "# By default, a Ray task only returns a single Object Ref.\n",
    "@ray.remote\n",
    "def return_single():\n",
    "    return 0, 1, 2\n",
    "\n",
    "\n",
    "object_ref = return_single.remote()\n",
    "assert ray.get(object_ref) == (0, 1, 2)\n",
    "\n",
    "\n",
    "# However, you can configure Ray tasks to return multiple Object Refs.\n",
    "@ray.remote(num_returns=3)  # 可以在修饰中定义return的个数\n",
    "def return_multiple():\n",
    "    return 0, 1, 2\n",
    "\n",
    "\n",
    "object_ref0, object_ref1, object_ref2 = return_multiple.remote()\n",
    "assert ray.get(object_ref0) == 0\n",
    "assert ray.get(object_ref1) == 1\n",
    "assert ray.get(object_ref2) == 2\n",
    "\n",
    "\n",
    "@ray.remote(num_returns=3)\n",
    "def return_multiple_as_generator():\n",
    "    for i in range(3):\n",
    "        yield i\n",
    "\n",
    "\n",
    "# NOTE: Similar to normal functions, these objects will not be available\n",
    "# until the full task is complete and all returns have been generated.\n",
    "a, b, c = return_multiple_as_generator.remote()"
   ],
   "metadata": {
    "collapsed": false,
    "ExecuteTime": {
     "end_time": "2024-12-13T10:39:42.458830Z",
     "start_time": "2024-12-13T10:39:42.406713Z"
    }
   },
   "id": "35bfe5dad3dd5cf8"
  },
  {
   "cell_type": "code",
   "execution_count": 7,
   "outputs": [],
   "source": [
    "########## Cancelling tasks ##########\n",
    "@ray.remote\n",
    "def blocking_operation():\n",
    "    time.sleep(10e6)\n",
    "\n",
    "\n",
    "obj_ref = blocking_operation.remote()\n",
    "ray.cancel(obj_ref)\n",
    "\n",
    "# try:\n",
    "#     ray.get(obj_ref)\n",
    "# except ray.exceptions.TaskCancelledError:\n",
    "#     print(\"Object reference was cancelled.\")"
   ],
   "metadata": {
    "collapsed": false,
    "ExecuteTime": {
     "end_time": "2024-12-13T10:40:14.030779Z",
     "start_time": "2024-12-13T10:40:14.012299Z"
    }
   },
   "id": "b91def7a39507b54"
  },
  {
   "cell_type": "code",
   "execution_count": null,
   "outputs": [],
   "source": [],
   "metadata": {
    "collapsed": false
   },
   "id": "51acb6c1a8dd0f94"
  }
 ],
 "metadata": {
  "kernelspec": {
   "display_name": "Python 3",
   "language": "python",
   "name": "python3"
  },
  "language_info": {
   "codemirror_mode": {
    "name": "ipython",
    "version": 2
   },
   "file_extension": ".py",
   "mimetype": "text/x-python",
   "name": "python",
   "nbconvert_exporter": "python",
   "pygments_lexer": "ipython2",
   "version": "2.7.6"
  }
 },
 "nbformat": 4,
 "nbformat_minor": 5
}
